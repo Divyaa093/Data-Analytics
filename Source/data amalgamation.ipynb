{
 "cells": [
  {
   "cell_type": "code",
   "execution_count": 74,
   "id": "a9200aac",
   "metadata": {},
   "outputs": [
    {
     "name": "stdout",
     "output_type": "stream",
     "text": [
      "['Glucose' 'BMI' 'Age']\n",
      "['Age' 'cp' 'trestbps' 'chol' 'fbs' 'ca']\n"
     ]
    },
    {
     "data": {
      "text/plain": [
       "(312, 6)"
      ]
     },
     "execution_count": 74,
     "metadata": {},
     "output_type": "execute_result"
    }
   ],
   "source": [
    "from sklearn.feature_selection import SelectKBest, f_classif\n",
    "import numpy as np\n",
    "import pandas as pd\n",
    "diabetes_df = pd.read_csv('diabetes.csv')\n",
    "heart_df = pd.read_csv('heart.csv')\n",
    "heart_df = heart_df.loc[heart_df['sex'] == 0]\n",
    "heart_df = heart_df.drop(['thalach','exang','oldpeak','slope','sex','thal','restecg'],axis=1)\n",
    "# Apply SelectKBest on the diabetes dataset\n",
    "k_best = SelectKBest(f_classif, k=3)\n",
    "diabetes_features = diabetes_df.drop('Outcome', axis=1)\n",
    "diabetes_labels = diabetes_df['Outcome']\n",
    "diabetes_features_new = k_best.fit_transform(diabetes_features, diabetes_labels)\n",
    "selected_features_diabetes = np.array(diabetes_features.columns)[k_best.get_support()]\n",
    "\n",
    "# Apply SelectKBest on the heart disease dataset\n",
    "k_best = SelectKBest(f_classif, k=6)\n",
    "heart_features=heart_df.drop(['target'],axis=1)\n",
    "heart_labels = heart_df['target']\n",
    "heart_features_new = k_best.fit_transform(heart_features, heart_labels)\n",
    "selected_features_heart = np.array(heart_features.columns)[k_best.get_support()]\n",
    "print(selected_features_diabetes)\n",
    "print(selected_features_heart)\n",
    "diabetes_df=diabetes_df[selected_features_diabetes]\n",
    "heart_df =heart_df[selected_features_heart]"
   ]
  },
  {
   "cell_type": "code",
   "execution_count": 118,
   "id": "bcf53957",
   "metadata": {},
   "outputs": [
    {
     "data": {
      "text/plain": [
       "(1174, 9)"
      ]
     },
     "execution_count": 118,
     "metadata": {},
     "output_type": "execute_result"
    }
   ],
   "source": [
    "merged_df = pd.merge(diabetes_df, heart_df, how='outer', on='Age')\n",
    "merged_df= merged_df.drop_duplicates()\n",
    "merged_df['target'] = ((merged_df['trestbps'] >= 140) & (merged_df['BMI'] > 25) & (merged_df['Age'] <= 70)).astype(int)\n",
    "merged_df.loc[merged_df['fbs'] == 1, 'target'] = 1\n",
    "merged_df.loc[(merged_df['cp'] ==1) & (merged_df['BMI'] > 25 ) & (merged_df['chol'] > 200), 'target'] = 1\n",
    "merged_df.loc[(merged_df['cp'] ==2) & (merged_df['chol'] > 200), 'target'] = 1\n",
    "merged_df.loc[(merged_df['ca'] >= 2)&(merged_df['chol'] > 200), 'target'] = 1\n",
    "np.shape(merged_df)"
   ]
  },
  {
   "cell_type": "code",
   "execution_count": 120,
   "id": "4f24fbd0",
   "metadata": {},
   "outputs": [
    {
     "data": {
      "text/plain": [
       "Glucose       5\n",
       "BMI           5\n",
       "Age           0\n",
       "cp          527\n",
       "trestbps    527\n",
       "chol        527\n",
       "fbs         527\n",
       "ca          527\n",
       "target        0\n",
       "dtype: int64"
      ]
     },
     "execution_count": 120,
     "metadata": {},
     "output_type": "execute_result"
    }
   ],
   "source": [
    "merged_df.isnull().sum()\n"
   ]
  },
  {
   "cell_type": "code",
   "execution_count": 121,
   "id": "cadfb76f",
   "metadata": {},
   "outputs": [],
   "source": [
    "mean_values = merged_df.mean().astype(int)\n",
    "merged_df.fillna(mean_values, inplace=True)\n"
   ]
  },
  {
   "cell_type": "code",
   "execution_count": 122,
   "id": "64519875",
   "metadata": {},
   "outputs": [
    {
     "data": {
      "text/plain": [
       "(1174, 9)"
      ]
     },
     "execution_count": 122,
     "metadata": {},
     "output_type": "execute_result"
    }
   ],
   "source": [
    "np.shape(merged_df)"
   ]
  },
  {
   "cell_type": "code",
   "execution_count": 123,
   "id": "6a0db373",
   "metadata": {
    "scrolled": true
   },
   "outputs": [
    {
     "data": {
      "text/html": [
       "<div>\n",
       "<style scoped>\n",
       "    .dataframe tbody tr th:only-of-type {\n",
       "        vertical-align: middle;\n",
       "    }\n",
       "\n",
       "    .dataframe tbody tr th {\n",
       "        vertical-align: top;\n",
       "    }\n",
       "\n",
       "    .dataframe thead th {\n",
       "        text-align: right;\n",
       "    }\n",
       "</style>\n",
       "<table border=\"1\" class=\"dataframe\">\n",
       "  <thead>\n",
       "    <tr style=\"text-align: right;\">\n",
       "      <th></th>\n",
       "      <th>Glucose</th>\n",
       "      <th>BMI</th>\n",
       "      <th>Age</th>\n",
       "      <th>cp</th>\n",
       "      <th>trestbps</th>\n",
       "      <th>chol</th>\n",
       "      <th>fbs</th>\n",
       "      <th>ca</th>\n",
       "      <th>target</th>\n",
       "    </tr>\n",
       "  </thead>\n",
       "  <tbody>\n",
       "    <tr>\n",
       "      <th>0</th>\n",
       "      <td>148.0</td>\n",
       "      <td>33.6</td>\n",
       "      <td>50</td>\n",
       "      <td>1.0</td>\n",
       "      <td>120.0</td>\n",
       "      <td>244.0</td>\n",
       "      <td>0.0</td>\n",
       "      <td>0.0</td>\n",
       "      <td>1</td>\n",
       "    </tr>\n",
       "    <tr>\n",
       "      <th>2</th>\n",
       "      <td>148.0</td>\n",
       "      <td>33.6</td>\n",
       "      <td>50</td>\n",
       "      <td>2.0</td>\n",
       "      <td>120.0</td>\n",
       "      <td>219.0</td>\n",
       "      <td>0.0</td>\n",
       "      <td>0.0</td>\n",
       "      <td>1</td>\n",
       "    </tr>\n",
       "    <tr>\n",
       "      <th>3</th>\n",
       "      <td>148.0</td>\n",
       "      <td>33.6</td>\n",
       "      <td>50</td>\n",
       "      <td>0.0</td>\n",
       "      <td>110.0</td>\n",
       "      <td>254.0</td>\n",
       "      <td>0.0</td>\n",
       "      <td>0.0</td>\n",
       "      <td>0</td>\n",
       "    </tr>\n",
       "    <tr>\n",
       "      <th>9</th>\n",
       "      <td>99.0</td>\n",
       "      <td>35.4</td>\n",
       "      <td>50</td>\n",
       "      <td>1.0</td>\n",
       "      <td>120.0</td>\n",
       "      <td>244.0</td>\n",
       "      <td>0.0</td>\n",
       "      <td>0.0</td>\n",
       "      <td>1</td>\n",
       "    </tr>\n",
       "    <tr>\n",
       "      <th>11</th>\n",
       "      <td>99.0</td>\n",
       "      <td>35.4</td>\n",
       "      <td>50</td>\n",
       "      <td>2.0</td>\n",
       "      <td>120.0</td>\n",
       "      <td>219.0</td>\n",
       "      <td>0.0</td>\n",
       "      <td>0.0</td>\n",
       "      <td>1</td>\n",
       "    </tr>\n",
       "  </tbody>\n",
       "</table>\n",
       "</div>"
      ],
      "text/plain": [
       "    Glucose   BMI  Age   cp  trestbps   chol  fbs   ca  target\n",
       "0     148.0  33.6   50  1.0     120.0  244.0  0.0  0.0       1\n",
       "2     148.0  33.6   50  2.0     120.0  219.0  0.0  0.0       1\n",
       "3     148.0  33.6   50  0.0     110.0  254.0  0.0  0.0       0\n",
       "9      99.0  35.4   50  1.0     120.0  244.0  0.0  0.0       1\n",
       "11     99.0  35.4   50  2.0     120.0  219.0  0.0  0.0       1"
      ]
     },
     "execution_count": 123,
     "metadata": {},
     "output_type": "execute_result"
    }
   ],
   "source": [
    "merged_df.head()"
   ]
  },
  {
   "cell_type": "code",
   "execution_count": 124,
   "id": "a9bf7410",
   "metadata": {
    "scrolled": true
   },
   "outputs": [],
   "source": [
    "merged_df.to_csv('PCOS_dataset.csv', index=False)"
   ]
  },
  {
   "cell_type": "code",
   "execution_count": null,
   "id": "62fe5940",
   "metadata": {},
   "outputs": [],
   "source": []
  }
 ],
 "metadata": {
  "kernelspec": {
   "display_name": "Python 3 (ipykernel)",
   "language": "python",
   "name": "python3"
  },
  "language_info": {
   "codemirror_mode": {
    "name": "ipython",
    "version": 3
   },
   "file_extension": ".py",
   "mimetype": "text/x-python",
   "name": "python",
   "nbconvert_exporter": "python",
   "pygments_lexer": "ipython3",
   "version": "3.9.13"
  }
 },
 "nbformat": 4,
 "nbformat_minor": 5
}
